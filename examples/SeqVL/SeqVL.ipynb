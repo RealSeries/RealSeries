{
 "cells": [
  {
   "cell_type": "code",
   "execution_count": 1,
   "metadata": {},
   "outputs": [],
   "source": [
    "import torch\n",
    "import torch.nn as nn\n",
    "import torch.nn.functional as F\n",
    "from torch.autograd import Variable\n",
    "from torch.optim.lr_scheduler import StepLR\n",
    "\n",
    "import torchvision\n",
    "from torchvision import datasets\n",
    "from torchvision import transforms\n",
    "\n",
    "import matplotlib.pyplot as plt\n",
    "import pandas as pd\n",
    "import numpy as np\n",
    "from dataloader import *\n",
    "\n",
    "import torchsnooper"
   ]
  },
  {
   "cell_type": "code",
   "execution_count": 2,
   "metadata": {},
   "outputs": [],
   "source": [
    "# config part, to init some paths, variables and so on\n",
    "window_size = 30 # 30 for Yahoo! 120 for KPIs\n",
    "window_count = 300 # 300 for Yahoo! 256 for KPIs\n",
    "h_dim = 24 # 24 for Yahoo! 100 for KPIs\n",
    "z_dim = 5\n",
    "l_h_dim = h_dim\n",
    "data_split_rate = 0.5\n",
    "epochs = 250\n",
    "lr = 1e-3\n",
    "lr_decay = 0.8 # decay every 10 epoch, 0.8 for Yahoo!, 0.75 for KPIs\n",
    "lamb = 10 # 10 for Yahoo!, 1 for KPIs\n",
    "clip_norm_value = 12.0 # 12.0, 10.0\n",
    "bs = 1"
   ]
  },
  {
   "cell_type": "code",
   "execution_count": 3,
   "metadata": {},
   "outputs": [
    {
     "data": {
      "text/plain": [
       "'\\nHow to make lr decay?\\n\\nscheduler = StepLR(optimizer, step_size=10, gamma=lr_decay)\\nfor epoch in range(epochs):\\n    train()\\n    scheduler.step()\\n\\n'"
      ]
     },
     "execution_count": 3,
     "metadata": {},
     "output_type": "execute_result"
    }
   ],
   "source": [
    "'''\n",
    "How to do gradient clip?\n",
    "\n",
    "optimizer.zero_grad()\n",
    "loss, hidden = model(data, hidden, targets)\n",
    "loss.backward()\n",
    "\n",
    "torch.nn.utils.clip_grad_norm(model.parameters(), clip_norm_value)\n",
    "\n",
    "optimizer.step()\n",
    "\n",
    "'''\n",
    "\n",
    "'''\n",
    "How to do L2-regularization, which also called weight_decay?\n",
    "\n",
    "if args.Adam is True:\n",
    "    print(\"Adam Training......\")\n",
    "    optimizer = torch.optim.Adam(model.parameters(), lr=args.lr,\n",
    "                                weight_decay=args.init_weight_decay)\n",
    "\n",
    "\n",
    "'''\n",
    "\n",
    "'''\n",
    "How to make lr decay?\n",
    "\n",
    "scheduler = StepLR(optimizer, step_size=10, gamma=lr_decay)\n",
    "for epoch in range(epochs):\n",
    "    train()\n",
    "    scheduler.step()\n",
    "\n",
    "'''"
   ]
  },
  {
   "cell_type": "code",
   "execution_count": 4,
   "metadata": {},
   "outputs": [],
   "source": [
    "def to_var(x):\n",
    "    if torch.cuda.is_available():\n",
    "        x = x.cuda()\n",
    "    return Variable(x)"
   ]
  },
  {
   "cell_type": "code",
   "execution_count": 5,
   "metadata": {},
   "outputs": [],
   "source": [
    "class VAE_LSTM(nn.Module):\n",
    "    def __init__(self, window_size, window_count, h_dim, z_dim, l_h_dim):\n",
    "        super(VAE_LSTM, self).__init__()\n",
    "        self.encoder = nn.Sequential(\n",
    "            nn.Linear(window_size, h_dim),\n",
    "            nn.ReLU(),\n",
    "            nn.Linear(h_dim, h_dim),\n",
    "            nn.ReLU(),\n",
    "            nn.Linear(h_dim, z_dim * 2),\n",
    "        )\n",
    "        \n",
    "        self.decoder = nn.Sequential(\n",
    "            \n",
    "            nn.Linear(z_dim, h_dim),\n",
    "            nn.ReLU(),\n",
    "            nn.Linear(h_dim, h_dim),\n",
    "            nn.ReLU(),\n",
    "            nn.Linear(h_dim, window_size)\n",
    "        )\n",
    "        \n",
    "        self.lstm = nn.LSTM(window_size, l_h_dim, 1, batch_first=True)\n",
    "        \n",
    "        # fc maybe modified, in single step or the total window_count\n",
    "        # single step version, I think the fc should be shared, so currently I prefer\n",
    "        # to use single step version\n",
    "        self.fc = nn.Linear(l_h_dim, 1)\n",
    "        \n",
    "        self.window_size = window_size\n",
    "        self.window_count = window_count\n",
    "        \n",
    "        # window_count version\n",
    "        # self.fc_list = [nn.Linear(l_h_dim, 1) for _ in range(window_count)]\n",
    "        \n",
    "    def reparameterize(self, mu, logvar):\n",
    "        std = logvar.mul(0.5).exp_()\n",
    "        esp = to_var(torch.randn(*mu.size()))\n",
    "        z = mu + std * esp\n",
    "        return z\n",
    "    \n",
    "    # @torchsnooper.snoop()\n",
    "    def forward(self, x):\n",
    "        '''\n",
    "        x:[batch, window_count, window_size]\n",
    "        '''\n",
    "        x = x.view(-1, window_size)\n",
    "        h = self.encoder(x)\n",
    "        mu, logvar = torch.chunk(h, 2, dim=1)\n",
    "        z = self.reparameterize(mu, logvar)\n",
    "        x_hat = self.decoder(z)\n",
    "        x_hat = x_hat.view(-1, window_count, window_size)\n",
    "        \n",
    "        output, (hn, cn) = self.lstm(x_hat)\n",
    "        # output : [batch_size, seq_len, l_h_dim]\n",
    "        y_hat = self.fc(output)\n",
    "\n",
    "        return x_hat, mu, logvar, y_hat\n",
    "        "
   ]
  },
  {
   "cell_type": "code",
   "execution_count": null,
   "metadata": {},
   "outputs": [],
   "source": []
  },
  {
   "cell_type": "code",
   "execution_count": 6,
   "metadata": {},
   "outputs": [],
   "source": [
    "# from torch.utils.tensorboard import SummaryWriter\n",
    "\n",
    "# writer = SummaryWriter('runs/VAE_LSTM_exp_1')"
   ]
  },
  {
   "cell_type": "markdown",
   "metadata": {},
   "source": [
    "### For training"
   ]
  },
  {
   "cell_type": "code",
   "execution_count": 7,
   "metadata": {},
   "outputs": [
    {
     "data": {
      "text/plain": [
       "VAE_LSTM(\n",
       "  (encoder): Sequential(\n",
       "    (0): Linear(in_features=30, out_features=24, bias=True)\n",
       "    (1): ReLU()\n",
       "    (2): Linear(in_features=24, out_features=10, bias=True)\n",
       "  )\n",
       "  (decoder): Sequential(\n",
       "    (0): Linear(in_features=5, out_features=24, bias=True)\n",
       "    (1): ReLU()\n",
       "    (2): Linear(in_features=24, out_features=30, bias=True)\n",
       "  )\n",
       "  (lstm): LSTM(30, 24, batch_first=True)\n",
       "  (fc): Linear(in_features=24, out_features=1, bias=True)\n",
       ")"
      ]
     },
     "execution_count": 7,
     "metadata": {},
     "output_type": "execute_result"
    }
   ],
   "source": [
    "vae_lstm = VAE_LSTM(window_size, window_count, h_dim, z_dim, l_h_dim)\n",
    "vae_lstm"
   ]
  },
  {
   "cell_type": "code",
   "execution_count": 8,
   "metadata": {},
   "outputs": [
    {
     "data": {
      "text/plain": [
       "'\\nconvert to time series into\\nx: [batch, window_count, window_size]\\n'"
      ]
     },
     "execution_count": 8,
     "metadata": {},
     "output_type": "execute_result"
    }
   ],
   "source": [
    "# loading data\n",
    "'''\n",
    "convert to time series into\n",
    "x: [batch, window_count, window_size]\n",
    "'''"
   ]
  },
  {
   "cell_type": "code",
   "execution_count": 9,
   "metadata": {},
   "outputs": [
    {
     "name": "stdout",
     "output_type": "stream",
     "text": [
      "data info:\n",
      "(2, 300, 30)\n",
      "(2, 300)\n",
      "(2, 300, 30)\n",
      "(2, 300)\n"
     ]
    }
   ],
   "source": [
    "train_data, train_label, test_data, test_label = load_yahoo('ydata-labeled-time-series-anomalies-v1_0/A1Benchmark/real_1.csv', window_size, window_count, data_split_rate, use_norm=False)"
   ]
  },
  {
   "cell_type": "code",
   "execution_count": 10,
   "metadata": {},
   "outputs": [],
   "source": [
    "train_data = torch.from_numpy(train_data)\n",
    "train_label = torch.from_numpy(train_label)\n",
    "test_data = torch.from_numpy(test_data)\n",
    "test_label = torch.from_numpy(test_label)"
   ]
  },
  {
   "cell_type": "code",
   "execution_count": 11,
   "metadata": {},
   "outputs": [],
   "source": [
    "# writer.add_graph(vae_lstm, train_data[:2])"
   ]
  },
  {
   "cell_type": "code",
   "execution_count": 12,
   "metadata": {},
   "outputs": [],
   "source": [
    "# writer.close()"
   ]
  },
  {
   "cell_type": "code",
   "execution_count": 13,
   "metadata": {},
   "outputs": [],
   "source": [
    "# output = vae_lstm(train_data[0:2])"
   ]
  },
  {
   "cell_type": "code",
   "execution_count": 14,
   "metadata": {},
   "outputs": [],
   "source": [
    "# for i in range(4):\n",
    "#     print(output[i].shape)"
   ]
  },
  {
   "cell_type": "code",
   "execution_count": 15,
   "metadata": {},
   "outputs": [],
   "source": [
    "# output[-1].squeeze(dim=-1).shape"
   ]
  },
  {
   "cell_type": "code",
   "execution_count": 16,
   "metadata": {},
   "outputs": [],
   "source": [
    "# train_data[0:1].shape"
   ]
  },
  {
   "cell_type": "code",
   "execution_count": 17,
   "metadata": {},
   "outputs": [],
   "source": [
    "# train_label[0:1].shape"
   ]
  },
  {
   "cell_type": "code",
   "execution_count": 18,
   "metadata": {},
   "outputs": [],
   "source": [
    "optimizer = torch.optim.Adam(vae_lstm.parameters(), lr=1e-3)"
   ]
  },
  {
   "cell_type": "code",
   "execution_count": 19,
   "metadata": {},
   "outputs": [],
   "source": [
    "def loss_fn(x_hat, x, mu, logvar, y_hat, label):\n",
    "    mse_x = F.mse_loss(x_hat, x)\n",
    "    KLD = -0.5 * torch.sum(1 + logvar - mu ** 2 - logvar.exp())\n",
    "    y_hat = y_hat.squeeze(dim=-1)\n",
    "    mse_y = F.mse_loss(y_hat, label)\n",
    "    return mse_x + KLD + mse_y\n",
    "\n",
    "\n",
    "def loss_vae(x_hat, x, mu, logvar):\n",
    "    mse_x = F.mse_loss(x_hat, x)\n",
    "    KLD = -0.5 * torch.sum(1 + logvar - mu ** 2 - logvar.exp())\n",
    "    return mse_x + KLD"
   ]
  },
  {
   "cell_type": "code",
   "execution_count": 20,
   "metadata": {},
   "outputs": [],
   "source": [
    "scheduler = StepLR(optimizer, step_size=10, gamma=lr_decay)"
   ]
  },
  {
   "cell_type": "code",
   "execution_count": 21,
   "metadata": {},
   "outputs": [
    {
     "name": "stderr",
     "output_type": "stream",
     "text": [
      "D:\\python_anaconda\\anaconda\\lib\\site-packages\\ipykernel_launcher.py:12: UserWarning: torch.nn.utils.clip_grad_norm is now deprecated in favor of torch.nn.utils.clip_grad_norm_.\n",
      "  if sys.path[0] == '':\n"
     ]
    },
    {
     "name": "stdout",
     "output_type": "stream",
     "text": [
      "Epoch[1/250] Loss: 15.570\n",
      "Epoch[1/250] Loss: 14.911\n",
      "Epoch[2/250] Loss: 14.077\n",
      "Epoch[2/250] Loss: 13.586\n",
      "Epoch[3/250] Loss: 12.755\n",
      "Epoch[3/250] Loss: 12.380\n",
      "Epoch[4/250] Loss: 11.557\n",
      "Epoch[4/250] Loss: 11.288\n",
      "Epoch[5/250] Loss: 10.476\n",
      "Epoch[5/250] Loss: 10.285\n",
      "Epoch[6/250] Loss: 9.495\n",
      "Epoch[6/250] Loss: 9.368\n",
      "Epoch[7/250] Loss: 8.599\n",
      "Epoch[7/250] Loss: 8.522\n",
      "Epoch[8/250] Loss: 7.762\n",
      "Epoch[8/250] Loss: 7.733\n",
      "Epoch[9/250] Loss: 6.987\n",
      "Epoch[9/250] Loss: 6.996\n",
      "Epoch[10/250] Loss: 6.255\n",
      "Epoch[10/250] Loss: 6.300\n",
      "Epoch[11/250] Loss: 5.565\n",
      "Epoch[11/250] Loss: 5.712\n",
      "Epoch[12/250] Loss: 5.044\n",
      "Epoch[12/250] Loss: 5.209\n",
      "Epoch[13/250] Loss: 4.538\n",
      "Epoch[13/250] Loss: 4.730\n",
      "Epoch[14/250] Loss: 4.064\n",
      "Epoch[14/250] Loss: 4.274\n",
      "Epoch[15/250] Loss: 3.610\n",
      "Epoch[15/250] Loss: 3.838\n",
      "Epoch[16/250] Loss: 3.185\n",
      "Epoch[16/250] Loss: 3.432\n",
      "Epoch[17/250] Loss: 2.786\n",
      "Epoch[17/250] Loss: 3.047\n",
      "Epoch[18/250] Loss: 2.421\n",
      "Epoch[18/250] Loss: 2.690\n",
      "Epoch[19/250] Loss: 2.088\n",
      "Epoch[19/250] Loss: 2.362\n",
      "Epoch[20/250] Loss: 1.788\n",
      "Epoch[20/250] Loss: 2.065\n",
      "Epoch[21/250] Loss: 1.525\n",
      "Epoch[21/250] Loss: 1.821\n",
      "Epoch[22/250] Loss: 1.336\n",
      "Epoch[22/250] Loss: 1.622\n",
      "Epoch[23/250] Loss: 1.167\n",
      "Epoch[23/250] Loss: 1.443\n",
      "Epoch[24/250] Loss: 1.017\n",
      "Epoch[24/250] Loss: 1.279\n",
      "Epoch[25/250] Loss: 0.883\n",
      "Epoch[25/250] Loss: 1.131\n",
      "Epoch[26/250] Loss: 0.765\n",
      "Epoch[26/250] Loss: 0.997\n",
      "Epoch[27/250] Loss: 0.659\n",
      "Epoch[27/250] Loss: 0.877\n",
      "Epoch[28/250] Loss: 0.564\n",
      "Epoch[28/250] Loss: 0.769\n",
      "Epoch[29/250] Loss: 0.478\n",
      "Epoch[29/250] Loss: 0.672\n",
      "Epoch[30/250] Loss: 0.401\n",
      "Epoch[30/250] Loss: 0.586\n",
      "Epoch[31/250] Loss: 0.333\n",
      "Epoch[31/250] Loss: 0.517\n",
      "Epoch[32/250] Loss: 0.287\n",
      "Epoch[32/250] Loss: 0.464\n",
      "Epoch[33/250] Loss: 0.247\n",
      "Epoch[33/250] Loss: 0.418\n",
      "Epoch[34/250] Loss: 0.215\n",
      "Epoch[34/250] Loss: 0.380\n",
      "Epoch[35/250] Loss: 0.189\n",
      "Epoch[35/250] Loss: 0.348\n",
      "Epoch[36/250] Loss: 0.170\n",
      "Epoch[36/250] Loss: 0.321\n",
      "Epoch[37/250] Loss: 0.156\n",
      "Epoch[37/250] Loss: 0.300\n",
      "Epoch[38/250] Loss: 0.146\n",
      "Epoch[38/250] Loss: 0.283\n",
      "Epoch[39/250] Loss: 0.139\n",
      "Epoch[39/250] Loss: 0.269\n",
      "Epoch[40/250] Loss: 0.136\n",
      "Epoch[40/250] Loss: 0.257\n",
      "Epoch[41/250] Loss: 0.135\n",
      "Epoch[41/250] Loss: 0.248\n",
      "Epoch[42/250] Loss: 0.133\n",
      "Epoch[42/250] Loss: 0.241\n",
      "Epoch[43/250] Loss: 0.133\n",
      "Epoch[43/250] Loss: 0.235\n",
      "Epoch[44/250] Loss: 0.133\n",
      "Epoch[44/250] Loss: 0.229\n",
      "Epoch[45/250] Loss: 0.134\n",
      "Epoch[45/250] Loss: 0.224\n",
      "Epoch[46/250] Loss: 0.133\n",
      "Epoch[46/250] Loss: 0.219\n",
      "Epoch[47/250] Loss: 0.133\n",
      "Epoch[47/250] Loss: 0.215\n",
      "Epoch[48/250] Loss: 0.133\n",
      "Epoch[48/250] Loss: 0.211\n",
      "Epoch[49/250] Loss: 0.132\n",
      "Epoch[49/250] Loss: 0.208\n",
      "Epoch[50/250] Loss: 0.131\n",
      "Epoch[50/250] Loss: 0.205\n",
      "Epoch[51/250] Loss: 0.130\n",
      "Epoch[51/250] Loss: 0.203\n",
      "Epoch[52/250] Loss: 0.129\n",
      "Epoch[52/250] Loss: 0.200\n",
      "Epoch[53/250] Loss: 0.128\n",
      "Epoch[53/250] Loss: 0.199\n",
      "Epoch[54/250] Loss: 0.127\n",
      "Epoch[54/250] Loss: 0.197\n",
      "Epoch[55/250] Loss: 0.125\n",
      "Epoch[55/250] Loss: 0.196\n",
      "Epoch[56/250] Loss: 0.124\n",
      "Epoch[56/250] Loss: 0.195\n",
      "Epoch[57/250] Loss: 0.122\n",
      "Epoch[57/250] Loss: 0.193\n",
      "Epoch[58/250] Loss: 0.121\n",
      "Epoch[58/250] Loss: 0.192\n",
      "Epoch[59/250] Loss: 0.120\n",
      "Epoch[59/250] Loss: 0.191\n",
      "Epoch[60/250] Loss: 0.118\n",
      "Epoch[60/250] Loss: 0.190\n",
      "Epoch[61/250] Loss: 0.117\n",
      "Epoch[61/250] Loss: 0.189\n",
      "Epoch[62/250] Loss: 0.116\n",
      "Epoch[62/250] Loss: 0.188\n",
      "Epoch[63/250] Loss: 0.115\n",
      "Epoch[63/250] Loss: 0.186\n",
      "Epoch[64/250] Loss: 0.113\n",
      "Epoch[64/250] Loss: 0.185\n",
      "Epoch[65/250] Loss: 0.113\n",
      "Epoch[65/250] Loss: 0.184\n",
      "Epoch[66/250] Loss: 0.112\n",
      "Epoch[66/250] Loss: 0.183\n",
      "Epoch[67/250] Loss: 0.111\n",
      "Epoch[67/250] Loss: 0.183\n",
      "Epoch[68/250] Loss: 0.110\n",
      "Epoch[68/250] Loss: 0.181\n",
      "Epoch[69/250] Loss: 0.110\n",
      "Epoch[69/250] Loss: 0.180\n",
      "Epoch[70/250] Loss: 0.109\n",
      "Epoch[70/250] Loss: 0.179\n",
      "Epoch[71/250] Loss: 0.108\n",
      "Epoch[71/250] Loss: 0.178\n",
      "Epoch[72/250] Loss: 0.107\n",
      "Epoch[72/250] Loss: 0.178\n",
      "Epoch[73/250] Loss: 0.107\n",
      "Epoch[73/250] Loss: 0.177\n",
      "Epoch[74/250] Loss: 0.106\n",
      "Epoch[74/250] Loss: 0.176\n",
      "Epoch[75/250] Loss: 0.106\n",
      "Epoch[75/250] Loss: 0.175\n",
      "Epoch[76/250] Loss: 0.105\n",
      "Epoch[76/250] Loss: 0.174\n",
      "Epoch[77/250] Loss: 0.105\n",
      "Epoch[77/250] Loss: 0.173\n",
      "Epoch[78/250] Loss: 0.104\n",
      "Epoch[78/250] Loss: 0.173\n",
      "Epoch[79/250] Loss: 0.104\n",
      "Epoch[79/250] Loss: 0.172\n",
      "Epoch[80/250] Loss: 0.103\n",
      "Epoch[80/250] Loss: 0.171\n",
      "Epoch[81/250] Loss: 0.103\n",
      "Epoch[81/250] Loss: 0.170\n",
      "Epoch[82/250] Loss: 0.103\n",
      "Epoch[82/250] Loss: 0.169\n",
      "Epoch[83/250] Loss: 0.102\n",
      "Epoch[83/250] Loss: 0.169\n",
      "Epoch[84/250] Loss: 0.102\n",
      "Epoch[84/250] Loss: 0.168\n",
      "Epoch[85/250] Loss: 0.102\n",
      "Epoch[85/250] Loss: 0.167\n",
      "Epoch[86/250] Loss: 0.101\n",
      "Epoch[86/250] Loss: 0.167\n",
      "Epoch[87/250] Loss: 0.101\n",
      "Epoch[87/250] Loss: 0.166\n",
      "Epoch[88/250] Loss: 0.100\n",
      "Epoch[88/250] Loss: 0.165\n",
      "Epoch[89/250] Loss: 0.100\n",
      "Epoch[89/250] Loss: 0.165\n",
      "Epoch[90/250] Loss: 0.100\n",
      "Epoch[90/250] Loss: 0.164\n",
      "Epoch[91/250] Loss: 0.099\n",
      "Epoch[91/250] Loss: 0.163\n",
      "Epoch[92/250] Loss: 0.099\n",
      "Epoch[92/250] Loss: 0.163\n",
      "Epoch[93/250] Loss: 0.099\n",
      "Epoch[93/250] Loss: 0.162\n",
      "Epoch[94/250] Loss: 0.099\n",
      "Epoch[94/250] Loss: 0.162\n",
      "Epoch[95/250] Loss: 0.098\n",
      "Epoch[95/250] Loss: 0.162\n",
      "Epoch[96/250] Loss: 0.098\n",
      "Epoch[96/250] Loss: 0.161\n",
      "Epoch[97/250] Loss: 0.098\n",
      "Epoch[97/250] Loss: 0.160\n",
      "Epoch[98/250] Loss: 0.097\n",
      "Epoch[98/250] Loss: 0.160\n",
      "Epoch[99/250] Loss: 0.097\n",
      "Epoch[99/250] Loss: 0.160\n",
      "Epoch[100/250] Loss: 0.097\n",
      "Epoch[100/250] Loss: 0.159\n",
      "Epoch[101/250] Loss: 0.097\n",
      "Epoch[101/250] Loss: 0.159\n",
      "Epoch[102/250] Loss: 0.097\n",
      "Epoch[102/250] Loss: 0.158\n",
      "Epoch[103/250] Loss: 0.096\n",
      "Epoch[103/250] Loss: 0.158\n",
      "Epoch[104/250] Loss: 0.096\n",
      "Epoch[104/250] Loss: 0.157\n",
      "Epoch[105/250] Loss: 0.096\n",
      "Epoch[105/250] Loss: 0.157\n",
      "Epoch[106/250] Loss: 0.096\n",
      "Epoch[106/250] Loss: 0.156\n",
      "Epoch[107/250] Loss: 0.095\n",
      "Epoch[107/250] Loss: 0.156\n",
      "Epoch[108/250] Loss: 0.095\n",
      "Epoch[108/250] Loss: 0.156\n",
      "Epoch[109/250] Loss: 0.095\n",
      "Epoch[109/250] Loss: 0.155\n",
      "Epoch[110/250] Loss: 0.095\n",
      "Epoch[110/250] Loss: 0.155\n",
      "Epoch[111/250] Loss: 0.095\n",
      "Epoch[111/250] Loss: 0.155\n",
      "Epoch[112/250] Loss: 0.095\n",
      "Epoch[112/250] Loss: 0.154\n",
      "Epoch[113/250] Loss: 0.094\n",
      "Epoch[113/250] Loss: 0.154\n",
      "Epoch[114/250] Loss: 0.094\n",
      "Epoch[114/250] Loss: 0.154\n",
      "Epoch[115/250] Loss: 0.094\n",
      "Epoch[115/250] Loss: 0.153\n",
      "Epoch[116/250] Loss: 0.094\n",
      "Epoch[116/250] Loss: 0.153\n",
      "Epoch[117/250] Loss: 0.094\n",
      "Epoch[117/250] Loss: 0.153\n",
      "Epoch[118/250] Loss: 0.094\n",
      "Epoch[118/250] Loss: 0.152\n",
      "Epoch[119/250] Loss: 0.093\n",
      "Epoch[119/250] Loss: 0.152\n",
      "Epoch[120/250] Loss: 0.094\n",
      "Epoch[120/250] Loss: 0.152\n",
      "Epoch[121/250] Loss: 0.093\n",
      "Epoch[121/250] Loss: 0.152\n",
      "Epoch[122/250] Loss: 0.093\n",
      "Epoch[122/250] Loss: 0.151\n",
      "Epoch[123/250] Loss: 0.093\n",
      "Epoch[123/250] Loss: 0.151\n",
      "Epoch[124/250] Loss: 0.093\n",
      "Epoch[124/250] Loss: 0.151\n",
      "Epoch[125/250] Loss: 0.093\n",
      "Epoch[125/250] Loss: 0.151\n",
      "Epoch[126/250] Loss: 0.093\n",
      "Epoch[126/250] Loss: 0.151\n",
      "Epoch[127/250] Loss: 0.092\n",
      "Epoch[127/250] Loss: 0.150\n",
      "Epoch[128/250] Loss: 0.093\n",
      "Epoch[128/250] Loss: 0.150\n",
      "Epoch[129/250] Loss: 0.092\n",
      "Epoch[129/250] Loss: 0.150\n",
      "Epoch[130/250] Loss: 0.092\n",
      "Epoch[130/250] Loss: 0.149\n",
      "Epoch[131/250] Loss: 0.092\n",
      "Epoch[131/250] Loss: 0.149\n",
      "Epoch[132/250] Loss: 0.092\n",
      "Epoch[132/250] Loss: 0.149\n",
      "Epoch[133/250] Loss: 0.092\n",
      "Epoch[133/250] Loss: 0.149\n",
      "Epoch[134/250] Loss: 0.092\n",
      "Epoch[134/250] Loss: 0.149\n",
      "Epoch[135/250] Loss: 0.092\n",
      "Epoch[135/250] Loss: 0.148\n",
      "Epoch[136/250] Loss: 0.092\n",
      "Epoch[136/250] Loss: 0.148\n",
      "Epoch[137/250] Loss: 0.091\n",
      "Epoch[137/250] Loss: 0.148\n",
      "Epoch[138/250] Loss: 0.091\n",
      "Epoch[138/250] Loss: 0.148\n",
      "Epoch[139/250] Loss: 0.091\n",
      "Epoch[139/250] Loss: 0.148\n",
      "Epoch[140/250] Loss: 0.091\n",
      "Epoch[140/250] Loss: 0.148\n",
      "Epoch[141/250] Loss: 0.091\n",
      "Epoch[141/250] Loss: 0.147\n",
      "Epoch[142/250] Loss: 0.091\n",
      "Epoch[142/250] Loss: 0.147\n",
      "Epoch[143/250] Loss: 0.091\n",
      "Epoch[143/250] Loss: 0.147\n",
      "Epoch[144/250] Loss: 0.091\n",
      "Epoch[144/250] Loss: 0.147\n",
      "Epoch[145/250] Loss: 0.091\n",
      "Epoch[145/250] Loss: 0.147\n",
      "Epoch[146/250] Loss: 0.091\n",
      "Epoch[146/250] Loss: 0.147\n",
      "Epoch[147/250] Loss: 0.091\n",
      "Epoch[147/250] Loss: 0.146\n",
      "Epoch[148/250] Loss: 0.090\n",
      "Epoch[148/250] Loss: 0.146\n",
      "Epoch[149/250] Loss: 0.090\n",
      "Epoch[149/250] Loss: 0.146\n",
      "Epoch[150/250] Loss: 0.090\n",
      "Epoch[150/250] Loss: 0.146\n",
      "Epoch[151/250] Loss: 0.090\n",
      "Epoch[151/250] Loss: 0.146\n",
      "Epoch[152/250] Loss: 0.090\n",
      "Epoch[152/250] Loss: 0.146\n",
      "Epoch[153/250] Loss: 0.090\n",
      "Epoch[153/250] Loss: 0.145\n",
      "Epoch[154/250] Loss: 0.090\n",
      "Epoch[154/250] Loss: 0.145\n",
      "Epoch[155/250] Loss: 0.090\n",
      "Epoch[155/250] Loss: 0.145\n",
      "Epoch[156/250] Loss: 0.090\n",
      "Epoch[156/250] Loss: 0.145\n",
      "Epoch[157/250] Loss: 0.090\n",
      "Epoch[157/250] Loss: 0.145\n",
      "Epoch[158/250] Loss: 0.090\n",
      "Epoch[158/250] Loss: 0.145\n",
      "Epoch[159/250] Loss: 0.090\n",
      "Epoch[159/250] Loss: 0.145\n",
      "Epoch[160/250] Loss: 0.090\n",
      "Epoch[160/250] Loss: 0.145\n",
      "Epoch[161/250] Loss: 0.090\n",
      "Epoch[161/250] Loss: 0.145\n",
      "Epoch[162/250] Loss: 0.089\n",
      "Epoch[162/250] Loss: 0.144\n",
      "Epoch[163/250] Loss: 0.090\n",
      "Epoch[163/250] Loss: 0.144\n",
      "Epoch[164/250] Loss: 0.090\n",
      "Epoch[164/250] Loss: 0.144\n",
      "Epoch[165/250] Loss: 0.090\n",
      "Epoch[165/250] Loss: 0.144\n",
      "Epoch[166/250] Loss: 0.089\n",
      "Epoch[166/250] Loss: 0.144\n",
      "Epoch[167/250] Loss: 0.089\n",
      "Epoch[167/250] Loss: 0.144\n",
      "Epoch[168/250] Loss: 0.089\n",
      "Epoch[168/250] Loss: 0.144\n",
      "Epoch[169/250] Loss: 0.089\n",
      "Epoch[169/250] Loss: 0.144\n",
      "Epoch[170/250] Loss: 0.089\n",
      "Epoch[170/250] Loss: 0.144\n",
      "Epoch[171/250] Loss: 0.089\n",
      "Epoch[171/250] Loss: 0.144\n",
      "Epoch[172/250] Loss: 0.089\n",
      "Epoch[172/250] Loss: 0.143\n",
      "Epoch[173/250] Loss: 0.089\n",
      "Epoch[173/250] Loss: 0.143\n",
      "Epoch[174/250] Loss: 0.089\n",
      "Epoch[174/250] Loss: 0.143\n",
      "Epoch[175/250] Loss: 0.089\n",
      "Epoch[175/250] Loss: 0.143\n",
      "Epoch[176/250] Loss: 0.089\n",
      "Epoch[176/250] Loss: 0.143\n",
      "Epoch[177/250] Loss: 0.089\n",
      "Epoch[177/250] Loss: 0.143\n",
      "Epoch[178/250] Loss: 0.089\n",
      "Epoch[178/250] Loss: 0.143\n",
      "Epoch[179/250] Loss: 0.089\n",
      "Epoch[179/250] Loss: 0.143\n",
      "Epoch[180/250] Loss: 0.089\n",
      "Epoch[180/250] Loss: 0.143\n",
      "Epoch[181/250] Loss: 0.089\n",
      "Epoch[181/250] Loss: 0.143\n",
      "Epoch[182/250] Loss: 0.089\n",
      "Epoch[182/250] Loss: 0.143\n",
      "Epoch[183/250] Loss: 0.089\n",
      "Epoch[183/250] Loss: 0.143\n",
      "Epoch[184/250] Loss: 0.089\n",
      "Epoch[184/250] Loss: 0.143\n",
      "Epoch[185/250] Loss: 0.089\n",
      "Epoch[185/250] Loss: 0.143\n",
      "Epoch[186/250] Loss: 0.089\n",
      "Epoch[186/250] Loss: 0.143\n",
      "Epoch[187/250] Loss: 0.089\n",
      "Epoch[187/250] Loss: 0.142\n",
      "Epoch[188/250] Loss: 0.089\n",
      "Epoch[188/250] Loss: 0.142\n",
      "Epoch[189/250] Loss: 0.088\n",
      "Epoch[189/250] Loss: 0.142\n",
      "Epoch[190/250] Loss: 0.088\n",
      "Epoch[190/250] Loss: 0.142\n",
      "Epoch[191/250] Loss: 0.089\n",
      "Epoch[191/250] Loss: 0.142\n",
      "Epoch[192/250] Loss: 0.088\n",
      "Epoch[192/250] Loss: 0.142\n",
      "Epoch[193/250] Loss: 0.088\n",
      "Epoch[193/250] Loss: 0.142\n",
      "Epoch[194/250] Loss: 0.089\n",
      "Epoch[194/250] Loss: 0.142\n",
      "Epoch[195/250] Loss: 0.088\n",
      "Epoch[195/250] Loss: 0.142\n",
      "Epoch[196/250] Loss: 0.088\n",
      "Epoch[196/250] Loss: 0.142\n",
      "Epoch[197/250] Loss: 0.088\n",
      "Epoch[197/250] Loss: 0.142\n",
      "Epoch[198/250] Loss: 0.088\n",
      "Epoch[198/250] Loss: 0.142\n",
      "Epoch[199/250] Loss: 0.088\n",
      "Epoch[199/250] Loss: 0.142\n",
      "Epoch[200/250] Loss: 0.088\n",
      "Epoch[200/250] Loss: 0.142\n",
      "Epoch[201/250] Loss: 0.088\n",
      "Epoch[201/250] Loss: 0.142\n",
      "Epoch[202/250] Loss: 0.088\n",
      "Epoch[202/250] Loss: 0.142\n",
      "Epoch[203/250] Loss: 0.088\n",
      "Epoch[203/250] Loss: 0.142\n",
      "Epoch[204/250] Loss: 0.088\n",
      "Epoch[204/250] Loss: 0.142\n",
      "Epoch[205/250] Loss: 0.088\n",
      "Epoch[205/250] Loss: 0.141\n",
      "Epoch[206/250] Loss: 0.088\n",
      "Epoch[206/250] Loss: 0.142\n",
      "Epoch[207/250] Loss: 0.088\n",
      "Epoch[207/250] Loss: 0.142\n",
      "Epoch[208/250] Loss: 0.088\n",
      "Epoch[208/250] Loss: 0.141\n",
      "Epoch[209/250] Loss: 0.088\n",
      "Epoch[209/250] Loss: 0.141\n",
      "Epoch[210/250] Loss: 0.088\n",
      "Epoch[210/250] Loss: 0.141\n",
      "Epoch[211/250] Loss: 0.088\n",
      "Epoch[211/250] Loss: 0.141\n",
      "Epoch[212/250] Loss: 0.088\n",
      "Epoch[212/250] Loss: 0.142\n",
      "Epoch[213/250] Loss: 0.088\n",
      "Epoch[213/250] Loss: 0.141\n",
      "Epoch[214/250] Loss: 0.088\n",
      "Epoch[214/250] Loss: 0.141\n",
      "Epoch[215/250] Loss: 0.088\n",
      "Epoch[215/250] Loss: 0.141\n",
      "Epoch[216/250] Loss: 0.088\n",
      "Epoch[216/250] Loss: 0.141\n",
      "Epoch[217/250] Loss: 0.088\n",
      "Epoch[217/250] Loss: 0.141\n",
      "Epoch[218/250] Loss: 0.088\n",
      "Epoch[218/250] Loss: 0.141\n",
      "Epoch[219/250] Loss: 0.088\n",
      "Epoch[219/250] Loss: 0.141\n",
      "Epoch[220/250] Loss: 0.088\n",
      "Epoch[220/250] Loss: 0.141\n",
      "Epoch[221/250] Loss: 0.088\n",
      "Epoch[221/250] Loss: 0.141\n",
      "Epoch[222/250] Loss: 0.088\n",
      "Epoch[222/250] Loss: 0.141\n",
      "Epoch[223/250] Loss: 0.088\n",
      "Epoch[223/250] Loss: 0.141\n",
      "Epoch[224/250] Loss: 0.088\n",
      "Epoch[224/250] Loss: 0.141\n",
      "Epoch[225/250] Loss: 0.088\n",
      "Epoch[225/250] Loss: 0.141\n",
      "Epoch[226/250] Loss: 0.088\n",
      "Epoch[226/250] Loss: 0.141\n",
      "Epoch[227/250] Loss: 0.088\n",
      "Epoch[227/250] Loss: 0.141\n",
      "Epoch[228/250] Loss: 0.088\n",
      "Epoch[228/250] Loss: 0.141\n",
      "Epoch[229/250] Loss: 0.088\n",
      "Epoch[229/250] Loss: 0.141\n",
      "Epoch[230/250] Loss: 0.088\n",
      "Epoch[230/250] Loss: 0.141\n",
      "Epoch[231/250] Loss: 0.088\n",
      "Epoch[231/250] Loss: 0.141\n",
      "Epoch[232/250] Loss: 0.088\n",
      "Epoch[232/250] Loss: 0.141\n",
      "Epoch[233/250] Loss: 0.088\n",
      "Epoch[233/250] Loss: 0.141\n",
      "Epoch[234/250] Loss: 0.088\n",
      "Epoch[234/250] Loss: 0.141\n",
      "Epoch[235/250] Loss: 0.088\n",
      "Epoch[235/250] Loss: 0.141\n",
      "Epoch[236/250] Loss: 0.088\n",
      "Epoch[236/250] Loss: 0.141\n",
      "Epoch[237/250] Loss: 0.088\n",
      "Epoch[237/250] Loss: 0.140\n",
      "Epoch[238/250] Loss: 0.088\n",
      "Epoch[238/250] Loss: 0.141\n",
      "Epoch[239/250] Loss: 0.088\n",
      "Epoch[239/250] Loss: 0.140\n",
      "Epoch[240/250] Loss: 0.088\n",
      "Epoch[240/250] Loss: 0.140\n",
      "Epoch[241/250] Loss: 0.087\n",
      "Epoch[241/250] Loss: 0.140\n",
      "Epoch[242/250] Loss: 0.088\n",
      "Epoch[242/250] Loss: 0.140\n",
      "Epoch[243/250] Loss: 0.088\n",
      "Epoch[243/250] Loss: 0.140\n",
      "Epoch[244/250] Loss: 0.088\n",
      "Epoch[244/250] Loss: 0.140\n",
      "Epoch[245/250] Loss: 0.087\n",
      "Epoch[245/250] Loss: 0.140\n",
      "Epoch[246/250] Loss: 0.088\n",
      "Epoch[246/250] Loss: 0.140\n",
      "Epoch[247/250] Loss: 0.087\n",
      "Epoch[247/250] Loss: 0.140\n",
      "Epoch[248/250] Loss: 0.087\n",
      "Epoch[248/250] Loss: 0.140\n",
      "Epoch[249/250] Loss: 0.088\n",
      "Epoch[249/250] Loss: 0.140\n",
      "Epoch[250/250] Loss: 0.087\n",
      "Epoch[250/250] Loss: 0.140\n"
     ]
    }
   ],
   "source": [
    "for epoch in range(epochs):\n",
    "    for i in range(train_data.shape[0]):\n",
    "        optimizer.zero_grad()\n",
    "        \n",
    "\n",
    "        x_hat, mu, logvar, y_hat = vae_lstm(train_data[i:i+1])\n",
    "#         x_hat, mu, logvar = vae_lstm(train_data[i:i+1])\n",
    "        loss = loss_fn(x_hat, train_data[i:i+1], mu, logvar, y_hat, train_label[i:i+1])\n",
    "#         loss = loss_vae(x_hat, train_data[i:i+1], mu, logvar)\n",
    "        loss.backward()\n",
    "\n",
    "        torch.nn.utils.clip_grad_norm(vae_lstm.parameters(), clip_norm_value)\n",
    "        optimizer.step()\n",
    "        \n",
    "        # if i % 100 == 0:\n",
    "        print(\"Epoch[{}/{}] Loss: {:.3f}\".format(epoch + 1, epochs, loss.item() / bs))\n",
    "    \n",
    "    scheduler.step()"
   ]
  },
  {
   "cell_type": "code",
   "execution_count": 22,
   "metadata": {},
   "outputs": [],
   "source": [
    "torch.save(vae_lstm.state_dict(), './models/vaelstm.pt')"
   ]
  },
  {
   "cell_type": "markdown",
   "metadata": {},
   "source": [
    "### For Test:\n",
    "- firstly, use train_data to feed into the model, get the reconstructed series\n",
    "- calculate the standard deviation of the squared error between the last step within x and x_hat, then we get the $\\sigma_r$\n",
    "- find the k to maximize F1 score, then we get the threshold."
   ]
  },
  {
   "cell_type": "code",
   "execution_count": 23,
   "metadata": {},
   "outputs": [],
   "source": [
    "test_model = VAE_LSTM(window_size, window_count, h_dim, z_dim, l_h_dim)"
   ]
  },
  {
   "cell_type": "code",
   "execution_count": 24,
   "metadata": {},
   "outputs": [
    {
     "data": {
      "text/plain": [
       "<All keys matched successfully>"
      ]
     },
     "execution_count": 24,
     "metadata": {},
     "output_type": "execute_result"
    }
   ],
   "source": [
    "test_model.load_state_dict(torch.load('./models/vaelstm.pt'))"
   ]
  },
  {
   "cell_type": "code",
   "execution_count": 25,
   "metadata": {},
   "outputs": [
    {
     "data": {
      "text/plain": [
       "VAE_LSTM(\n",
       "  (encoder): Sequential(\n",
       "    (0): Linear(in_features=30, out_features=24, bias=True)\n",
       "    (1): ReLU()\n",
       "    (2): Linear(in_features=24, out_features=10, bias=True)\n",
       "  )\n",
       "  (decoder): Sequential(\n",
       "    (0): Linear(in_features=5, out_features=24, bias=True)\n",
       "    (1): ReLU()\n",
       "    (2): Linear(in_features=24, out_features=30, bias=True)\n",
       "  )\n",
       "  (lstm): LSTM(30, 24, batch_first=True)\n",
       "  (fc): Linear(in_features=24, out_features=1, bias=True)\n",
       ")"
      ]
     },
     "execution_count": 25,
     "metadata": {},
     "output_type": "execute_result"
    }
   ],
   "source": [
    "test_model.eval()"
   ]
  },
  {
   "cell_type": "code",
   "execution_count": 26,
   "metadata": {},
   "outputs": [],
   "source": [
    "# train_data, train_label, test_data, test_label = load_yahoo('ydata-labeled-time-series-anomalies-v1_0/A1Benchmark/real_1.csv', window_size, window_count, data_split_rate)"
   ]
  },
  {
   "cell_type": "code",
   "execution_count": 27,
   "metadata": {},
   "outputs": [],
   "source": [
    "# train_data = torch.from_numpy(train_data)\n",
    "# train_label = torch.from_numpy(train_label)\n",
    "# test_data = torch.from_numpy(test_data)\n",
    "# test_label = torch.from_numpy(test_label)"
   ]
  },
  {
   "cell_type": "code",
   "execution_count": 28,
   "metadata": {},
   "outputs": [],
   "source": [
    "recon_x, mu, logvar, y_hat = test_model(train_data)"
   ]
  },
  {
   "cell_type": "code",
   "execution_count": 29,
   "metadata": {},
   "outputs": [
    {
     "data": {
      "text/plain": [
       "torch.Size([2, 300, 30])"
      ]
     },
     "execution_count": 29,
     "metadata": {},
     "output_type": "execute_result"
    }
   ],
   "source": [
    "recon_x.shape"
   ]
  },
  {
   "cell_type": "code",
   "execution_count": 30,
   "metadata": {},
   "outputs": [],
   "source": [
    "def get_sigma_r(train_data, recon_x):\n",
    "    x = train_data.view(-1, window_size).detach().numpy()\n",
    "    x_hat = recon_x.view(-1, window_size).detach().numpy()\n",
    "    diff = x[:, -1] - x_hat[:, -1]\n",
    "    print(diff.shape)\n",
    "    sqe = np.array([item ** 2 for item in diff])\n",
    "    print(sqe.shape)\n",
    "    std = np.std(sqe)\n",
    "    return std"
   ]
  },
  {
   "cell_type": "code",
   "execution_count": 31,
   "metadata": {},
   "outputs": [
    {
     "name": "stdout",
     "output_type": "stream",
     "text": [
      "(600,)\n",
      "(600,)\n"
     ]
    }
   ],
   "source": [
    "sigma_r = get_sigma_r(train_data, recon_x)"
   ]
  },
  {
   "cell_type": "code",
   "execution_count": 32,
   "metadata": {},
   "outputs": [
    {
     "data": {
      "text/plain": [
       "0.005176028285651033"
      ]
     },
     "execution_count": 32,
     "metadata": {},
     "output_type": "execute_result"
    }
   ],
   "source": [
    "sigma_r"
   ]
  },
  {
   "cell_type": "code",
   "execution_count": 33,
   "metadata": {},
   "outputs": [],
   "source": [
    "@torchsnooper.snoop()\n",
    "def reconstruct(model, data):\n",
    "    data.view(-1, window_size)\n",
    "    h = model.encoder(data)\n",
    "    mu, logvar = torch.chunk(h, 2, dim=1)\n",
    "    z = model.reparameterize(mu, logvar)\n",
    "    recon = model.decoder(z)\n",
    "    return recon"
   ]
  },
  {
   "cell_type": "code",
   "execution_count": 34,
   "metadata": {},
   "outputs": [],
   "source": [
    "td = train_data[0, 200:201]"
   ]
  },
  {
   "cell_type": "code",
   "execution_count": 35,
   "metadata": {},
   "outputs": [
    {
     "name": "stderr",
     "output_type": "stream",
     "text": [
      "Source path:... <ipython-input-33-6bae9c34bb67>\n",
      "Starting var:.. model = VAE_LSTM(  (encoder): Sequential(    (0): Linear...inear(in_features=24, out_features=1, bias=True))\n",
      "Starting var:.. data = tensor<(1, 30), float32, cpu>\n",
      "17:59:44.075592 call         2 def reconstruct(model, data):\n",
      "17:59:44.083569 line         3     data.view(-1, window_size)\n",
      "17:59:44.085564 line         4     h = model.encoder(data)\n",
      "New var:....... h = tensor<(1, 10), float32, cpu, grad>\n",
      "17:59:44.088556 line         5     mu, logvar = torch.chunk(h, 2, dim=1)\n",
      "New var:....... mu = tensor<(1, 5), float32, cpu, grad>\n",
      "New var:....... logvar = tensor<(1, 5), float32, cpu, grad>\n",
      "17:59:44.093543 line         6     z = model.reparameterize(mu, logvar)\n",
      "New var:....... z = tensor<(1, 5), float32, cpu, grad>\n",
      "17:59:44.104513 line         7     recon = model.decoder(z)\n",
      "New var:....... recon = tensor<(1, 30), float32, cpu, grad>\n",
      "17:59:44.110499 line         8     return recon\n",
      "17:59:44.114488 return       8     return recon\n",
      "Return value:.. tensor<(1, 30), float32, cpu, grad>\n"
     ]
    }
   ],
   "source": [
    "res = reconstruct(test_model, td)"
   ]
  },
  {
   "cell_type": "code",
   "execution_count": 36,
   "metadata": {},
   "outputs": [
    {
     "data": {
      "text/plain": [
       "tensor([[0.0737, 0.0646, 0.0560, 0.0748, 0.0249, 0.0237, 0.0587, 0.1001, 0.0666,\n",
       "         0.0705, 0.0988, 0.1180, 0.1008, 0.0532, 0.0993, 0.0473, 0.0913, 0.0386,\n",
       "         0.0703, 0.0294, 0.0969, 0.1166, 0.1211, 0.2038, 0.0463, 0.1826, 0.0220,\n",
       "         0.0881, 0.0379, 0.0988]])"
      ]
     },
     "execution_count": 36,
     "metadata": {},
     "output_type": "execute_result"
    }
   ],
   "source": [
    "td"
   ]
  },
  {
   "cell_type": "code",
   "execution_count": 37,
   "metadata": {},
   "outputs": [
    {
     "data": {
      "text/plain": [
       "tensor([[ 0.0509,  0.0379,  0.0570,  0.0701,  0.0729,  0.1147,  0.0782,  0.1241,\n",
       "          0.0476,  0.0289,  0.0749,  0.0368, -0.0008,  0.0463,  0.1235,  0.0309,\n",
       "          0.0399,  0.1043,  0.0024,  0.0979,  0.1290,  0.0674,  0.0476,  0.0987,\n",
       "          0.1141,  0.0623,  0.1260,  0.0783,  0.0380,  0.0733]],\n",
       "       grad_fn=<AddmmBackward>)"
      ]
     },
     "execution_count": 37,
     "metadata": {},
     "output_type": "execute_result"
    }
   ],
   "source": [
    "res"
   ]
  },
  {
   "cell_type": "code",
   "execution_count": 38,
   "metadata": {},
   "outputs": [
    {
     "data": {
      "text/plain": [
       "[<matplotlib.lines.Line2D at 0x2348c4b02e8>]"
      ]
     },
     "execution_count": 38,
     "metadata": {},
     "output_type": "execute_result"
    },
    {
     "data": {
      "image/png": "[encoded data removed]",
      "text/plain": [
       "<Figure size 432x288 with 1 Axes>"
      ]
     },
     "metadata": {
      "needs_background": "light"
     },
     "output_type": "display_data"
    }
   ],
   "source": [
    "plt.plot(td.detach().numpy()[0])\n",
    "plt.plot(res.detach().numpy()[0])"
   ]
  },
  {
   "cell_type": "code",
   "execution_count": 39,
   "metadata": {},
   "outputs": [
    {
     "name": "stderr",
     "output_type": "stream",
     "text": [
      "Starting var:.. model = VAE_LSTM(  (encoder): Sequential(    (0): Linear...inear(in_features=24, out_features=1, bias=True))\n",
      "Starting var:.. data = tensor<(1, 30), float32, cpu>\n",
      "19:30:01.779879 call         2 def reconstruct(model, data):\n",
      "19:30:01.786861 line         3     data.view(-1, window_size)\n",
      "19:30:01.788857 line         4     h = model.encoder(data)\n",
      "New var:....... h = tensor<(1, 10), float32, cpu, grad>\n",
      "19:30:01.792845 line         5     mu, logvar = torch.chunk(h, 2, dim=1)\n",
      "New var:....... mu = tensor<(1, 5), float32, cpu, grad>\n",
      "New var:....... logvar = tensor<(1, 5), float32, cpu, grad>\n",
      "19:30:01.795837 line         6     z = model.reparameterize(mu, logvar)\n",
      "New var:....... z = tensor<(1, 5), float32, cpu, grad>\n",
      "19:30:01.801822 line         7     recon = model.decoder(z)\n",
      "New var:....... recon = tensor<(1, 30), float32, cpu, grad>\n",
      "19:30:01.807807 line         8     return recon\n",
      "19:30:01.811798 return       8     return recon\n",
      "Return value:.. tensor<(1, 30), float32, cpu, grad>\n"
     ]
    },
    {
     "data": {
      "text/plain": [
       "[<matplotlib.lines.Line2D at 0x23490c69f28>]"
      ]
     },
     "execution_count": 39,
     "metadata": {},
     "output_type": "execute_result"
    },
    {
     "data": {
      "image/png": "[encoded data removed]",
      "text/plain": [
       "<Figure size 432x288 with 1 Axes>"
      ]
     },
     "metadata": {
      "needs_background": "light"
     },
     "output_type": "display_data"
    }
   ],
   "source": [
    "td = train_data[0, 100:101]\n",
    "res = reconstruct(test_model, td)\n",
    "plt.plot(td.detach().numpy()[0])\n",
    "plt.plot(res.detach().numpy()[0])"
   ]
  },
  {
   "cell_type": "code",
   "execution_count": 40,
   "metadata": {},
   "outputs": [
    {
     "name": "stderr",
     "output_type": "stream",
     "text": [
      "Starting var:.. model = VAE_LSTM(  (encoder): Sequential(    (0): Linear...inear(in_features=24, out_features=1, bias=True))\n",
      "Starting var:.. data = tensor<(1, 30), float32, cpu>\n",
      "19:31:00.532718 call         2 def reconstruct(model, data):\n",
      "19:31:00.537703 line         3     data.view(-1, window_size)\n",
      "19:31:00.539697 line         4     h = model.encoder(data)\n",
      "New var:....... h = tensor<(1, 10), float32, cpu, grad>\n",
      "19:31:00.542690 line         5     mu, logvar = torch.chunk(h, 2, dim=1)\n",
      "New var:....... mu = tensor<(1, 5), float32, cpu, grad>\n",
      "New var:....... logvar = tensor<(1, 5), float32, cpu, grad>\n",
      "19:31:00.546679 line         6     z = model.reparameterize(mu, logvar)\n",
      "New var:....... z = tensor<(1, 5), float32, cpu, grad>\n",
      "19:31:00.553659 line         7     recon = model.decoder(z)\n",
      "New var:....... recon = tensor<(1, 30), float32, cpu, grad>\n",
      "19:31:00.558647 line         8     return recon\n",
      "19:31:00.562636 return       8     return recon\n",
      "Return value:.. tensor<(1, 30), float32, cpu, grad>\n"
     ]
    },
    {
     "data": {
      "text/plain": [
       "[<matplotlib.lines.Line2D at 0x23490c90898>]"
      ]
     },
     "execution_count": 40,
     "metadata": {},
     "output_type": "execute_result"
    },
    {
     "data": {
      "image/png": "[encoded data removed]",
      "text/plain": [
       "<Figure size 432x288 with 1 Axes>"
      ]
     },
     "metadata": {
      "needs_background": "light"
     },
     "output_type": "display_data"
    }
   ],
   "source": [
    "td = train_data[0, 150:151]\n",
    "res = reconstruct(test_model, td)\n",
    "plt.plot(td.detach().numpy()[0])\n",
    "plt.plot(res.detach().numpy()[0])"
   ]
  },
  {
   "cell_type": "code",
   "execution_count": 41,
   "metadata": {},
   "outputs": [
    {
     "name": "stderr",
     "output_type": "stream",
     "text": [
      "Starting var:.. model = VAE_LSTM(  (encoder): Sequential(    (0): Linear...inear(in_features=24, out_features=1, bias=True))\n",
      "Starting var:.. data = tensor<(1, 30), float32, cpu>\n",
      "19:31:32.758514 call         2 def reconstruct(model, data):\n",
      "19:31:32.762501 line         3     data.view(-1, window_size)\n",
      "19:31:32.765495 line         4     h = model.encoder(data)\n",
      "New var:....... h = tensor<(1, 10), float32, cpu, grad>\n",
      "19:31:32.769484 line         5     mu, logvar = torch.chunk(h, 2, dim=1)\n",
      "New var:....... mu = tensor<(1, 5), float32, cpu, grad>\n",
      "New var:....... logvar = tensor<(1, 5), float32, cpu, grad>\n",
      "19:31:32.772476 line         6     z = model.reparameterize(mu, logvar)\n",
      "New var:....... z = tensor<(1, 5), float32, cpu, grad>\n",
      "19:31:32.777462 line         7     recon = model.decoder(z)\n",
      "New var:....... recon = tensor<(1, 30), float32, cpu, grad>\n",
      "19:31:32.782452 line         8     return recon\n",
      "19:31:32.787436 return       8     return recon\n",
      "Return value:.. tensor<(1, 30), float32, cpu, grad>\n"
     ]
    },
    {
     "data": {
      "text/plain": [
       "[<matplotlib.lines.Line2D at 0x2348c437a20>]"
      ]
     },
     "execution_count": 41,
     "metadata": {},
     "output_type": "execute_result"
    },
    {
     "data": {
      "image/png": "[encoded data removed]",
      "text/plain": [
       "<Figure size 432x288 with 1 Axes>"
      ]
     },
     "metadata": {
      "needs_background": "light"
     },
     "output_type": "display_data"
    }
   ],
   "source": [
    "td = train_data[0, 50:51]\n",
    "res = reconstruct(test_model, td)\n",
    "plt.plot(td.detach().numpy()[0])\n",
    "plt.plot(res.detach().numpy()[0])"
   ]
  },
  {
   "cell_type": "code",
   "execution_count": 42,
   "metadata": {},
   "outputs": [
    {
     "name": "stderr",
     "output_type": "stream",
     "text": [
      "Starting var:.. model = VAE_LSTM(  (encoder): Sequential(    (0): Linear...inear(in_features=24, out_features=1, bias=True))\n",
      "Starting var:.. data = tensor<(1, 30), float32, cpu>\n",
      "19:35:09.953520 call         2 def reconstruct(model, data):\n",
      "19:35:09.959512 line         3     data.view(-1, window_size)\n",
      "19:35:09.962494 line         4     h = model.encoder(data)\n",
      "New var:....... h = tensor<(1, 10), float32, cpu, grad>\n",
      "19:35:09.964488 line         5     mu, logvar = torch.chunk(h, 2, dim=1)\n",
      "New var:....... mu = tensor<(1, 5), float32, cpu, grad>\n",
      "New var:....... logvar = tensor<(1, 5), float32, cpu, grad>\n",
      "19:35:09.968477 line         6     z = model.reparameterize(mu, logvar)\n",
      "New var:....... z = tensor<(1, 5), float32, cpu, grad>\n",
      "19:35:09.974462 line         7     recon = model.decoder(z)\n",
      "New var:....... recon = tensor<(1, 30), float32, cpu, grad>\n",
      "19:35:09.980446 line         8     return recon\n",
      "19:35:09.984434 return       8     return recon\n",
      "Return value:.. tensor<(1, 30), float32, cpu, grad>\n"
     ]
    },
    {
     "data": {
      "text/plain": [
       "[<matplotlib.lines.Line2D at 0x23490e53cf8>]"
      ]
     },
     "execution_count": 42,
     "metadata": {},
     "output_type": "execute_result"
    },
    {
     "data": {
      "image/png": "[encoded data removed]",
      "text/plain": [
       "<Figure size 432x288 with 1 Axes>"
      ]
     },
     "metadata": {
      "needs_background": "light"
     },
     "output_type": "display_data"
    }
   ],
   "source": [
    "td = train_data[0, 120:121]\n",
    "res = reconstruct(test_model, td)\n",
    "plt.plot(td.detach().numpy()[0])\n",
    "plt.plot(res.detach().numpy()[0])"
   ]
  },
  {
   "cell_type": "markdown",
   "metadata": {},
   "source": [
    "### 关于VAE重构效果的解释\n",
    "- 我们采用的数据是Yahoo，论文中说\n",
    "- Yahoo dataset demonstrate different periodic patterns across the time stamps, it is not suitable for trend prediction evaluation. \n",
    "- 这是为什么我们得到的图中，尾部趋势大都并不相符的原因，正是因为数据集体现出这样的特征，导致预测任务在Yahoo数据集上不可做"
   ]
  },
  {
   "cell_type": "markdown",
   "metadata": {},
   "source": [
    "### Test Predict"
   ]
  },
  {
   "cell_type": "code",
   "execution_count": 43,
   "metadata": {},
   "outputs": [],
   "source": [
    "test_x_hat, mu, logvar, test_y_hat = test_model(test_data)"
   ]
  },
  {
   "cell_type": "code",
   "execution_count": 52,
   "metadata": {},
   "outputs": [
    {
     "data": {
      "text/plain": [
       "torch.Size([2, 300])"
      ]
     },
     "execution_count": 52,
     "metadata": {},
     "output_type": "execute_result"
    }
   ],
   "source": [
    "test_y_hat.squeeze().shape"
   ]
  },
  {
   "cell_type": "code",
   "execution_count": 48,
   "metadata": {},
   "outputs": [
    {
     "data": {
      "text/plain": [
       "torch.Size([2, 300])"
      ]
     },
     "execution_count": 48,
     "metadata": {},
     "output_type": "execute_result"
    }
   ],
   "source": [
    "test_label.shape"
   ]
  },
  {
   "cell_type": "code",
   "execution_count": 53,
   "metadata": {},
   "outputs": [
    {
     "data": {
      "text/plain": [
       "0.0046720495"
      ]
     },
     "execution_count": 53,
     "metadata": {},
     "output_type": "execute_result"
    }
   ],
   "source": [
    "from sklearn.metrics import mean_squared_error\n",
    "\n",
    "mean_squared_error(test_y_hat.squeeze().detach().numpy(), test_label.detach().numpy())"
   ]
  },
  {
   "cell_type": "code",
   "execution_count": 57,
   "metadata": {},
   "outputs": [],
   "source": [
    "origin_series = test_data.detach().numpy()[0, :, -1]\n",
    "predict_series = test_y_hat.squeeze().detach().numpy()[0]"
   ]
  },
  {
   "cell_type": "code",
   "execution_count": 60,
   "metadata": {},
   "outputs": [
    {
     "data": {
      "text/plain": [
       "[<matplotlib.lines.Line2D at 0x23492f6cd30>]"
      ]
     },
     "execution_count": 60,
     "metadata": {},
     "output_type": "execute_result"
    },
    {
     "data": {
      "image/png": "[encoded data removed]",
      "text/plain": [
       "<Figure size 432x288 with 1 Axes>"
      ]
     },
     "metadata": {
      "needs_background": "light"
     },
     "output_type": "display_data"
    }
   ],
   "source": [
    "plt.plot(origin_series, label='origin')\n",
    "plt.plot(predict_series, label='predict')"
   ]
  },
  {
   "cell_type": "markdown",
   "metadata": {},
   "source": [
    "### 从数值来看，mse在0.004，当然没看到有人用Yahoo做预测，也不知道这个数值到底意味如何，但是从图上来看不适合，进一步的实验结果需要用到KPI数据集，之后如果得到这个数据，可以进一步测试模型正确性"
   ]
  },
  {
   "cell_type": "markdown",
   "metadata": {},
   "source": [
    "### 异常程度"
   ]
  },
  {
   "cell_type": "code",
   "execution_count": 61,
   "metadata": {},
   "outputs": [],
   "source": [
    "origin_series = test_data.detach().numpy()[0, :, -1]\n",
    "recon_series = test_x_hat.detach().numpy()[0, :, -1]\n",
    "score = origin_series - recon_series\n",
    "score = np.array([x**2 for x in score])"
   ]
  },
  {
   "cell_type": "code",
   "execution_count": 64,
   "metadata": {},
   "outputs": [
    {
     "data": {
      "text/plain": [
       "[<matplotlib.lines.Line2D at 0x23493036048>]"
      ]
     },
     "execution_count": 64,
     "metadata": {},
     "output_type": "execute_result"
    },
    {
     "data": {
      "image/png": "[encoded data removed]",
      "text/plain": [
       "<Figure size 432x288 with 1 Axes>"
      ]
     },
     "metadata": {
      "needs_background": "light"
     },
     "output_type": "display_data"
    }
   ],
   "source": [
    "plt.plot(origin_series)\n",
    "plt.plot(score * 2)"
   ]
  },
  {
   "cell_type": "code",
   "execution_count": 65,
   "metadata": {},
   "outputs": [
    {
     "data": {
      "text/plain": [
       "[<matplotlib.lines.Line2D at 0x234937f6630>]"
      ]
     },
     "execution_count": 65,
     "metadata": {},
     "output_type": "execute_result"
    },
    {
     "data": {
      "image/png": "[encoded data removed]",
      "text/plain": [
       "<Figure size 432x288 with 1 Axes>"
      ]
     },
     "metadata": {
      "needs_background": "light"
     },
     "output_type": "display_data"
    }
   ],
   "source": [
    "origin_series = test_data.detach().numpy()[1, :, -1]\n",
    "recon_series = test_x_hat.detach().numpy()[1, :, -1]\n",
    "score = origin_series - recon_series\n",
    "score = np.array([x**2 for x in score])\n",
    "plt.plot(origin_series)\n",
    "plt.plot(score * 2)"
   ]
  },
  {
   "cell_type": "markdown",
   "metadata": {},
   "source": [
    "### 从异常检测角度来看，橙色的异常评分和直观感受是契合的。"
   ]
  },
  {
   "cell_type": "code",
   "execution_count": null,
   "metadata": {},
   "outputs": [],
   "source": []
  }
 ],
 "metadata": {
  "kernelspec": {
   "display_name": "Python 3",
   "language": "python",
   "name": "python3"
  },
  "language_info": {
   "codemirror_mode": {
    "name": "ipython",
    "version": 3
   },
   "file_extension": ".py",
   "mimetype": "text/x-python",
   "name": "python",
   "nbconvert_exporter": "python",
   "pygments_lexer": "ipython3",
   "version": "3.7.3"
  }
 },
 "nbformat": 4,
 "nbformat_minor": 2
}
